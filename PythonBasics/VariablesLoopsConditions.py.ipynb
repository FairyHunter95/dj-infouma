{
 "cells": [
  {
   "cell_type": "markdown",
   "metadata": {},
   "source": [
    "# Python basics\n",
    "The video tutorial of this code is available at this link: https://www.youtube.com/watch?v=WYz3_3imcgM"
   ]
  },
  {
   "cell_type": "markdown",
   "metadata": {},
   "source": [
    "# Variables"
   ]
  },
  {
   "cell_type": "code",
   "execution_count": 7,
   "metadata": {},
   "outputs": [],
   "source": [
    "name = \"Angelica\"\n",
    "number = 1\n",
    "myboolean = True"
   ]
  },
  {
   "cell_type": "markdown",
   "metadata": {},
   "source": [
    "# List"
   ]
  },
  {
   "cell_type": "code",
   "execution_count": null,
   "metadata": {},
   "outputs": [],
   "source": [
    "mylist = [\"item1\", \"item2\", \"item3\"]\n",
    "mylist.append(\"item4\")\n",
    "print(mylist[0])"
   ]
  },
  {
   "cell_type": "markdown",
   "metadata": {},
   "source": [
    "# Dict"
   ]
  },
  {
   "cell_type": "code",
   "execution_count": 5,
   "metadata": {},
   "outputs": [
    {
     "name": "stdout",
     "output_type": "stream",
     "text": [
      "alod83\n"
     ]
    }
   ],
   "source": [
    "mydict = {'name' : \"Angelica\", 'surname': 'Lo Duca'}\n",
    "mydict['nickname'] = 'alod83'\n",
    "print(mydict['nickname'])"
   ]
  },
  {
   "cell_type": "markdown",
   "metadata": {},
   "source": [
    "# List of dicts"
   ]
  },
  {
   "cell_type": "code",
   "execution_count": 6,
   "metadata": {},
   "outputs": [
    {
     "name": "stdout",
     "output_type": "stream",
     "text": [
      "{'author': 'Giacomo Leopardi', 'title': 'Operette Morali'}\n"
     ]
    }
   ],
   "source": [
    "mylistofdict = []\n",
    "mylistofdict.append({'author' : 'Dante Alighieri', 'title' : 'Divina Commedia'})\n",
    "mylistofdict.append({'author' : 'Giacomo Leopardi', 'title': 'Operette Morali'})\n",
    "print(mylistofdict[1])"
   ]
  },
  {
   "cell_type": "markdown",
   "metadata": {},
   "source": [
    "# Condition"
   ]
  },
  {
   "cell_type": "code",
   "execution_count": 19,
   "metadata": {},
   "outputs": [
    {
     "name": "stdout",
     "output_type": "stream",
     "text": [
      "not author name\n"
     ]
    }
   ],
   "source": [
    "if name == \"Andrea\":\n",
    "    print(\"author name\")\n",
    "else:\n",
    "    print(\"not author name\")"
   ]
  },
  {
   "cell_type": "markdown",
   "metadata": {},
   "source": [
    "# Loop"
   ]
  },
  {
   "cell_type": "code",
   "execution_count": 17,
   "metadata": {},
   "outputs": [
    {
     "name": "stdout",
     "output_type": "stream",
     "text": [
      "0\n",
      "{'author': 'Dante Alighieri', 'title': 'Divina Commedia'}\n",
      "1\n",
      "{'author': 'Giacomo Leopardi', 'title': 'Operette Morali'}\n"
     ]
    }
   ],
   "source": [
    "listlen = len(mylistofdict)\n",
    "for i in range(listlen):\n",
    "    print(i)\n",
    "    print(mylistofdict[i])"
   ]
  },
  {
   "cell_type": "markdown",
   "metadata": {},
   "source": [
    "# Loop with condition"
   ]
  },
  {
   "cell_type": "code",
   "execution_count": 21,
   "metadata": {},
   "outputs": [
    {
     "name": "stdout",
     "output_type": "stream",
     "text": [
      "Dante\n",
      "Giacomo\n"
     ]
    }
   ],
   "source": [
    "for i in range(listlen):\n",
    "    if mylistofdict[i]['author'] == 'Dante Alighieri':\n",
    "        print(\"Dante\")\n",
    "    else:\n",
    "        print(\"Giacomo\")"
   ]
  }
 ],
 "metadata": {
  "kernelspec": {
   "display_name": "Python 3",
   "language": "python",
   "name": "python3"
  },
  "language_info": {
   "codemirror_mode": {
    "name": "ipython",
    "version": 3
   },
   "file_extension": ".py",
   "mimetype": "text/x-python",
   "name": "python",
   "nbconvert_exporter": "python",
   "pygments_lexer": "ipython3",
   "version": "3.8.1"
  }
 },
 "nbformat": 4,
 "nbformat_minor": 4
}
