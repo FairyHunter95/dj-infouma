{
 "cells": [
  {
   "cell_type": "markdown",
   "metadata": {},
   "source": [
    "# Calcio femminile \n",
    "\n",
    "Esempio di scraping dal sito [femminile.football.it](femminile.football.it)\n",
    "### Riempire le righe dove sono gli asterischi"
   ]
  },
  {
   "cell_type": "markdown",
   "metadata": {},
   "source": [
    "## Importare le librerie necessarie"
   ]
  },
  {
   "cell_type": "code",
   "execution_count": 6,
   "metadata": {},
   "outputs": [],
   "source": [
    "from selenium.webdriver import Chrome                  # importa l'interfaccia webdriver a Chrome\n",
    "\n",
    "# Inserire il codice al posto degli asterischi\n",
    "***********************************************        # importa le modalità per simulare la tastiera\n",
    "***********************************************        # importa le espressioni regolari\n",
    "***********************************************        # lancia il driver\n",
    "# fine inserimento del codice                                           "
   ]
  },
  {
   "cell_type": "markdown",
   "metadata": {},
   "source": [
    "### Funzione getPlayers\n",
    "Fornita una lettera accede alla pagina di [ricerca delle giocatrice](https://femminile.football.it/ricerca.php) e recupera tutte le informazioni delle giocatrici con quella lettera, in particolare per ogni giocatrice recupera:\n",
    "* il nome e cognome\n",
    "* il suo id con cui poi si potrà accedere alla scheda relativa\n",
    "* la data di nascita\n",
    "\n",
    "Osserva che quando si clicca su una lettera come ad esempio la 'Q' si accede alla seguente pagina\n",
    "[https://femminile.football.it/ricerca.php?Ricerca=giocatori&iniziale=Q](https://femminile.football.it/ricerca.php?Ricerca=giocatori&iniziale=Q). Ovvero viene invocata la stessa pagina cambiando il valore del parametro 'iniziale'. Prova a sostituire la Q con un altra lettera. Sfruttiamo questo per recuperare tutte le calciatrici."
   ]
  },
  {
   "cell_type": "code",
   "execution_count": 7,
   "metadata": {},
   "outputs": [],
   "source": [
    "def getPlayers(letter):\n",
    "    # parameters and output data\n",
    "    url = 'https://femminile.football.it/ricerca.php?Ricerca=giocatori&iniziale='\n",
    "\n",
    "    \n",
    "    # Inserire il codice al posto degli asterischi\n",
    "    xpath = **************************************      # xpath della tabella contenente le giocatrici\n",
    "    patternName = re.compile(\"*******************\")     # espressione regolare per i nomi ex QAFOKU MARTINA\n",
    "    patternData = re.compile(\"*******************\")     # espressione regolare per le date ex 28/11/2000\n",
    "    # fine inserimento del codice \n",
    " \n",
    "    driver.get(url+letter)                              # recupero la pagina con le calciatrici con la lettera passata come parametro\n",
    "\n",
    "    # Inserire il codice al posto degli asterischi\n",
    "    tabella = **************************************    # seleziono l'elemento tabella contenente le giocatrici\n",
    "    players = **************************************    # seleziono tutti i tag anchor a partire dalla tabella\n",
    "    # fine inserimento del codice \n",
    "\n",
    "    playersData = [] # definisco una lista vuota dove andrò ad inserire i dati delle calciatrici    \n",
    "    for player in players:\n",
    "        # Inserire il codice al posto degli asterischi\n",
    "        n = ******************************* # ricerco il nome\n",
    "        d = ******************************* # ricerco la data\n",
    "        # fine inserimento del codice \n",
    "        if(d):\n",
    "            dataNascita = d.group()\n",
    "        else:\n",
    "            dataNascita = ''\n",
    "        if(n):\n",
    "            nome = n.group()\n",
    "        else:\n",
    "            nome = ''\n",
    "        link = player.get_attribute('href')\n",
    "        # appendo la riga dei dati della calciatrice alla lista playersData\n",
    "        playersData.append({'nome':nome,'id':link.split('=')[1], 'dataNascita':dataNascita })\n",
    "    \n",
    "    return playersData"
   ]
  },
  {
   "cell_type": "markdown",
   "metadata": {},
   "source": [
    "## Verifica che la funzione esegua correttamente il codice invocandola con una lettera"
   ]
  },
  {
   "cell_type": "code",
   "execution_count": 8,
   "metadata": {
    "scrolled": false
   },
   "outputs": [
    {
     "name": "stdout",
     "output_type": "stream",
     "text": [
      "[{'nome': 'QAFOKU MARTINA', 'id': '8316', 'dataNascita': '28/11/2000'}, {'nome': 'QUADRELLI SARA', 'id': '7267', 'dataNascita': '28/08/1997'}, {'nome': 'QUAGGIOTTO ELENA', 'id': '2262', 'dataNascita': '30/04/1992'}, {'nome': 'QUAGLIA FRANCESCA', 'id': '5688', 'dataNascita': '13/04/1996'}, {'nome': 'QUAGLIOTTO JESSICA', 'id': '3031', 'dataNascita': '16/03/1993'}, {'nome': 'QUARANTA MARTINA', 'id': '6611', 'dataNascita': '19/05/1995'}, {'nome': 'QUARESIMA MARA', 'id': '10475', 'dataNascita': '15/04/2002'}, {'nome': 'QUARTICELLI VALENTINA', 'id': '2398', 'dataNascita': '20/02/1990'}, {'nome': 'QUARTO FEDERICA', 'id': '3220', 'dataNascita': '13/04/1992'}, {'nome': 'QUARTULLO FEDERICA', 'id': '7046', 'dataNascita': '20/06/1991'}, {'nome': 'QUATTROCCHI FRANCESCA', 'id': '3829', 'dataNascita': '03/08/1988'}, {'nome': 'QUAZZICO FRANCESCA', 'id': '8752', 'dataNascita': '07/05/2001'}, {'nome': 'QUERCIA MARZIA', 'id': '4650', 'dataNascita': '16/09/1980'}, {'nome': 'QUERZOLA LAURA', 'id': '9149', 'dataNascita': '20/08/1991'}, {'nome': 'QUIN JENNIFER', 'id': '3752', 'dataNascita': ''}, {'nome': 'QUINTO MICHELINA', 'id': '4145', 'dataNascita': '30/03/1988'}, {'nome': 'QUISTINI VALENTINA', 'id': '5564', 'dataNascita': '30/11/1985'}, {'nome': 'QUITADAMO SONIA', 'id': '261', 'dataNascita': '10/10/1985'}]\n"
     ]
    }
   ],
   "source": [
    "# test getPlayers\n",
    "playersData = getPlayers('Q')\n",
    "print(playersData)"
   ]
  },
  {
   "cell_type": "markdown",
   "metadata": {},
   "source": [
    "### Funzione getPlayerData\n",
    "fornito un id accede alla pagina della giocatrice e recupera tutti i suoi dati. Anche in questo caso si sfrutta il fatto che per accedere alle schede delle calciatrici bisogna comporre la seguente url https://femminile.football.it/schedagiocatore.php?id_giocatore=9205 9205 è l'id di una calciatrice\n"
   ]
  },
  {
   "cell_type": "code",
   "execution_count": 11,
   "metadata": {},
   "outputs": [],
   "source": [
    "def getPlayerData(id):\n",
    "    url     = \"https://femminile.football.it/schedagiocatore.php?id_giocatore\"         \n",
    "\n",
    "    # Inserire il codice al posto degli asterischi\n",
    "    xpath   = \"*************************\"               # xpath della tabella contenente i dati di una giocatrice\n",
    "    driver.get(******************)                      # recupero la pagina della giocatrice\n",
    "    tabella = **************************************    # seleziono l'elemento tabella contenente le giocatrici\n",
    "    rows    = **************************************    # seleziono tutti i tag 'tr' (table row) a partire dalla tabella\n",
    "    # fine inserimento del codice \n",
    "    \n",
    "    playerData = {}\n",
    "    for row in rows:\n",
    "        if(row.text.strip()!=''):\n",
    "            # print(\"-\"+row.text)\n",
    "            cells = row.find_elements_by_tag_name(\"td\")\n",
    "            playerData[cells[0].text]=cells[1].text.strip()    \n",
    "\n",
    "    # Recupero la squadra in cui gioca nella stagione attuale dalla penultima riga\n",
    "    xpath = \"/html/body/table/tbody/tr/td/table/tbody/tr/td[2]/table[5]/tbody/tr[1]/td[2]/table//tr\"\n",
    "    rows  = driver.find_elements_by_xpath(xpath)\n",
    "    row   = rows[len(rows)-2]\n",
    "    cells = row.find_elements_by_tag_name(\"td\")\n",
    "    playerData[\"team2019/20\"]=cells[0].text\n",
    "    return playerData"
   ]
  },
  {
   "cell_type": "code",
   "execution_count": null,
   "metadata": {},
   "outputs": [],
   "source": [
    "## Verifica la funzione passandogli il codice 9205 "
   ]
  },
  {
   "cell_type": "code",
   "execution_count": 12,
   "metadata": {},
   "outputs": [
    {
     "name": "stdout",
     "output_type": "stream",
     "text": [
      "{'Data di nascita': '14/09/1999', 'luogo di nascita': '( [N.D.] ) - Italia', 'nazione': 'Italia', 'altezza': '', 'peso forma': '', 'ruolo': 'Attaccante', 'sito ufficiale': '', 'Nazionalita': 'Italiana', 'team2019/20': 'Saluzzo'}\n"
     ]
    }
   ],
   "source": [
    "\n",
    "# Inserire il codice al posto degli asterischi\n",
    "playerData = ************************* #test getPlayerData\n",
    " # fine inserimento del codice \n",
    "    \n",
    "print(playerData)"
   ]
  },
  {
   "cell_type": "markdown",
   "metadata": {},
   "source": [
    "### Programma principale"
   ]
  },
  {
   "cell_type": "code",
   "execution_count": 16,
   "metadata": {},
   "outputs": [],
   "source": [
    "#letters = ['A','B','C','D','E','F','G','H','I','J','K','L','M','N','O','P','Q','R','S','T','U','V','W','X','Y','Z']\n",
    "letters = ['Q','Z']\n",
    "\n",
    "# recupero tutte le giocatrici\n",
    "players = [] # definisco una lista vuota dove inserirò tutte le giocatrici\n",
    "for letter in letters:\n",
    "    players.extend(getPlayers(letter))         # add a list to a list\n",
    "\n",
    "# per ogni giocatrice recupero i dati\n",
    "playersDB = [] # definisco una lista vuota dove andrò a salvare i dati di ogni giocatrice\n",
    "for player in players:\n",
    "    player.update(getPlayerData(player['id'])) # add a dict to a dict\n",
    "    playersDB.append(player)\n",
    "    "
   ]
  },
  {
   "cell_type": "markdown",
   "metadata": {},
   "source": [
    "## Visualizzo i risultati"
   ]
  },
  {
   "cell_type": "code",
   "execution_count": 23,
   "metadata": {},
   "outputs": [
    {
     "name": "stdout",
     "output_type": "stream",
     "text": [
      "188\n"
     ]
    }
   ],
   "source": [
    "print(len(playersDB))"
   ]
  },
  {
   "cell_type": "markdown",
   "metadata": {},
   "source": [
    "## Programma principale in modalità headless"
   ]
  },
  {
   "cell_type": "code",
   "execution_count": 22,
   "metadata": {},
   "outputs": [],
   "source": [
    "driver.quit() # chiudo il driver che non è in modalità headless\n",
    "\n",
    "from selenium.webdriver.chrome.options import Options\n",
    "chromeOptions = Options()  \n",
    "chromeOptions.add_argument(\"--headless\") \n",
    "\n",
    "driver = webdriver.Chrome(options=chromeOptions) # lancio il driver in modalità Headless\n",
    "\n",
    "# recupero tutte le giocatrici\n",
    "players = [] # definisco una lista vuota dove inserirò tutte le giocatrici\n",
    "for letter in letters:\n",
    "    players.extend(getPlayers(letter))         # add a list to a list\n",
    "\n",
    "\n",
    "# per ogni giocatrice recupero i dati\n",
    "playersDB = [] # definisco una lista vuota dove andrò a salvare i dati di ogni giocatrice\n",
    "for player in players:\n",
    "    player.update(getPlayerData(player['id'])) # add a dict to a dict\n",
    "    playersDB.append(player)"
   ]
  },
  {
   "cell_type": "markdown",
   "metadata": {},
   "source": [
    "## Salvo su file i dati in formato CSV"
   ]
  },
  {
   "cell_type": "code",
   "execution_count": null,
   "metadata": {
    "collapsed": true
   },
   "outputs": [],
   "source": [
    "import csv\n",
    "keys = playersDB[0].keys() # Recupero i nomi dei campi dal primo dictionary\n",
    "with open('playersDB.csv', 'w', newline='') as csvFile:\n",
    "    dict_writer = csv.DictWriter(csvFile, keys) # imposto i nomi dei campi\n",
    "    dict_writer.writeheader()                   # scriva la prima riga\n",
    "    dict_writer.writerows(playersDB)            # scrivo i dati"
   ]
  }
 ],
 "metadata": {
  "kernelspec": {
   "display_name": "Python 3",
   "language": "python",
   "name": "python3"
  },
  "language_info": {
   "codemirror_mode": {
    "name": "ipython",
    "version": 3
   },
   "file_extension": ".py",
   "mimetype": "text/x-python",
   "name": "python",
   "nbconvert_exporter": "python",
   "pygments_lexer": "ipython3",
   "version": "3.7.3"
  }
 },
 "nbformat": 4,
 "nbformat_minor": 2
}
