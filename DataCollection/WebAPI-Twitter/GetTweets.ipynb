{
 "cells": [
  {
   "cell_type": "markdown",
   "metadata": {},
   "source": [
    "# Configure the API"
   ]
  },
  {
   "cell_type": "code",
   "execution_count": 23,
   "metadata": {},
   "outputs": [],
   "source": [
    "import twitter\n",
    "api = twitter.Api(consumer_key='',\n",
    "                  consumer_secret='',\n",
    "                  access_token_key='',\n",
    "                  access_token_secret='')"
   ]
  },
  {
   "cell_type": "markdown",
   "metadata": {},
   "source": [
    "# Case 1: I know the screen name"
   ]
  },
  {
   "cell_type": "code",
   "execution_count": 17,
   "metadata": {},
   "outputs": [],
   "source": [
    "screen_name = \"acquaalma\""
   ]
  },
  {
   "cell_type": "code",
   "execution_count": 18,
   "metadata": {},
   "outputs": [
    {
     "data": {
      "text/plain": [
       "[{'created_at': 'Thu Mar 19 09:00:00 +0000 2020',\n",
       "  'text': 'Auguri a tutti i papà del mondo da Acqua Alma. \\n#happyfathersday\\nhttps://t.co/oVtW9sMAKe \\n#ScegliAcquaAlma https://t.co/sSjHIywAD4'},\n",
       " {'created_at': 'Wed Mar 18 12:13:58 +0000 2020',\n",
       "  'text': \"RT @Ambrosetti_: Si conclude l'evento #digital di Presentazione del Libro Bianco #ValoreAcqua per l'#Italia.\\nGrazie ai partner della Commun…\"},\n",
       " {'created_at': 'Wed Mar 18 12:04:10 +0000 2020',\n",
       "  'text': 'RT @Ambrosetti_: #ValoreAcqua\\n\"È necessaria una trasformazione del #settoreidrico che faccia leva sui trend tecnologici innovativi\", Vittor…'},\n",
       " {'created_at': 'Wed Mar 18 12:00:01 +0000 2020',\n",
       "  'text': '#FACCIAMOCHIAREZZA\\nLa borraccia in acciaio è amica dell’ambiente. Impiegata come sostituto delle bottiglie di plast… https://t.co/wXWXs9JoEV'},\n",
       " {'created_at': 'Wed Mar 18 11:01:16 +0000 2020',\n",
       "  'text': 'RT @Ambrosetti_: #ValoreAcqua\\n\"Creare maggior #cultura dell\\'#acqua in #Italia e valorizzare l\\'acqua di rete, il cui valore non è percepito…'},\n",
       " {'created_at': 'Wed Mar 18 10:57:50 +0000 2020',\n",
       "  'text': 'RT @Ambrosetti_: #ValoreAcqua\\nL\\'intervento di Mauro Gallavotti, Amministratore Delegato, #CelliGroup \"Siamo stati promotori già 2 anni fa d…'},\n",
       " {'created_at': 'Wed Mar 18 10:06:12 +0000 2020',\n",
       "  'text': 'RT @Ambrosetti_: \"Il valore d\\'uso dell\\'#acqua si esplicita solo laddove si ha un\\'#informazione costante: volume consumato e prezzo\", Andrea…'},\n",
       " {'created_at': 'Wed Mar 18 09:26:27 +0000 2020',\n",
       "  'text': 'RT @Ambrosetti_: Ci sono però alcune buone notizie: dalle analisi dell’Osservatorio #ValoreAcqua per l’#Italia emergono alcuni punti di for…'},\n",
       " {'created_at': 'Wed Mar 18 09:25:39 +0000 2020',\n",
       "  'text': 'RT @Ambrosetti_: I risultati dell’Osservatorio #ValoreAcqua per l’Italia mostrano che la gestione dell’acqua in Italia ha molte ombre\\n@Vale…'},\n",
       " {'created_at': 'Wed Mar 18 09:21:51 +0000 2020',\n",
       "  'text': 'RT @Ambrosetti_: .@ValerioDeMolli \\n\"La risorsa #acqua è una #risorsa scarsa e strategica (e lo sarà sempre di più in futuro). Oggi più che…'},\n",
       " {'created_at': 'Wed Mar 18 08:59:07 +0000 2020',\n",
       "  'text': \"RT @Ambrosetti_: Al via, tra poco, l'evento #Digital di Presentazione del Libro Bianco #ValoreAcqua per l'#Italia  \\n#StayTuned \\n@Acquedotto…\"},\n",
       " {'created_at': 'Sat Mar 14 11:03:03 +0000 2020',\n",
       "  'text': '.@FedeBrignone: E’ lei che porta con responsabilità la bandiera italiana: schiena dritta e tanto lavoro. Con lei co… https://t.co/LsaRx4HBk8'},\n",
       " {'created_at': 'Fri Mar 13 10:00:00 +0000 2020',\n",
       "  'text': '11 podi, 5 successi di tappa e oro alla Coppa del Mondo di sci alpino femminile. Ma @FedeBrignone ha vinto con la t… https://t.co/Ps0zHv2yi5'},\n",
       " {'created_at': 'Thu Mar 12 16:38:15 +0000 2020',\n",
       "  'text': '.@FedeBrignone, in classifica con 1378 punti, vince la Coppa del Mondo di sci alpino femminile. L’abbiamo scelta la… https://t.co/GrbU3DD45L'},\n",
       " {'created_at': 'Thu Mar 12 12:00:01 +0000 2020',\n",
       "  'text': '#FACCIAMOCHIAREZZA\\nLe bottigliedi plastica bio si degradano in 400 anni. Come limitarle? Sostituendole con borracce… https://t.co/hC8SPGUJS5'},\n",
       " {'created_at': 'Wed Mar 11 18:33:35 +0000 2020',\n",
       "  'text': '.@FedeBrignone: la prima donna italiana a vincere la Coppa del Mondo generale di Sci in un momento così complicato… https://t.co/meaqzU2zQw'},\n",
       " {'created_at': 'Wed Mar 11 18:25:18 +0000 2020',\n",
       "  'text': '@FedeBrignone: la prima donna italiana a vincere la Coppa del mondo di sci in un momento così complicato per il nos… https://t.co/GQUMswMSU6'},\n",
       " {'created_at': 'Tue Mar 10 12:00:00 +0000 2020',\n",
       "  'text': 'Come iniziare bene la tua giornata? Un buon caffè e Acqua Alma, nella tua borraccia leggera e funzionale che rende… https://t.co/Rjz5Aj1Ijt'},\n",
       " {'created_at': 'Sun Mar 08 08:00:00 +0000 2020',\n",
       "  'text': 'Festa della donna. Un’occasione per ribadire il proprio impegno nella salvaguardia dell’ambiente. \\nLe donne sono pi… https://t.co/Znv8QjsOzZ'},\n",
       " {'created_at': 'Fri Mar 06 12:00:00 +0000 2020',\n",
       "  'text': 'Hai idea di quanti kg di CO2 puoi risparmiare all’ambiente utilizzando acqua di rete microfiltrata? Abbattendo l’in… https://t.co/JOG4RR7p9O'}]"
      ]
     },
     "execution_count": 18,
     "metadata": {},
     "output_type": "execute_result"
    }
   ],
   "source": [
    "tweets_timeline = api.GetUserTimeline(screen_name=screen_name)\n",
    "tweets = []\n",
    "for tweet in tweets_timeline:\n",
    "    line = {'created_at' : tweet.created_at, 'text' : tweet.text}\n",
    "    tweets.append(line)\n",
    "tweets"
   ]
  },
  {
   "cell_type": "markdown",
   "metadata": {},
   "source": [
    "# Case 2:  I don't know the screen name"
   ]
  },
  {
   "cell_type": "code",
   "execution_count": 19,
   "metadata": {},
   "outputs": [
    {
     "data": {
      "text/plain": [
       "[User(ID=490472482, ScreenName=GabiBoschetti1),\n",
       " User(ID=1358944664, ScreenName=GabBoschetti),\n",
       " User(ID=597804907, ScreenName=gaboschett),\n",
       " User(ID=741772800, ScreenName=BoscheGabi),\n",
       " User(ID=1217555461509144577, ScreenName=GabrieleBosche3),\n",
       " User(ID=2157376732, ScreenName=gbrlboschetti),\n",
       " User(ID=1076284848, ScreenName=GabrieleBosche1)]"
      ]
     },
     "execution_count": 19,
     "metadata": {},
     "output_type": "execute_result"
    }
   ],
   "source": [
    "name = \"Gabriele Boschetti\"\n",
    "users = api.GetUsersSearch(term=name)\n",
    "users"
   ]
  },
  {
   "cell_type": "code",
   "execution_count": 21,
   "metadata": {},
   "outputs": [
    {
     "data": {
      "text/plain": [
       "[{'created_at': 'Wed Feb 15 16:07:31 +0000 2012',\n",
       "  'text': 'muitoooooooooo calorrrr'},\n",
       " {'created_at': 'Wed Feb 15 15:50:11 +0000 2012',\n",
       "  'text': 'faze que nem ontem toma banho gelado'},\n",
       " {'created_at': 'Wed Feb 15 15:40:53 +0000 2012', 'text': 'te adoro sabia?'},\n",
       " {'created_at': 'Wed Feb 15 15:22:19 +0000 2012',\n",
       "  'text': 'muito calor que nem ontem'},\n",
       " {'created_at': 'Tue Feb 14 17:29:57 +0000 2012',\n",
       "  'text': 'thau gente derepente de noite eu volto\\nbjs thauuu'},\n",
       " {'created_at': 'Tue Feb 14 17:23:53 +0000 2012',\n",
       "  'text': 'ninguem no face muito menos no orkut'},\n",
       " {'created_at': 'Tue Feb 14 17:17:49 +0000 2012',\n",
       "  'text': 'e depois um banho tri gelado'},\n",
       " {'created_at': 'Tue Feb 14 17:17:19 +0000 2012',\n",
       "  'text': 'vou tomar um sorvete agora'},\n",
       " {'created_at': 'Tue Feb 14 16:55:50 +0000 2012',\n",
       "  'text': 'estou morrendo de calor'},\n",
       " {'created_at': 'Tue Feb 14 16:51:30 +0000 2012', 'text': 'esperando chove'},\n",
       " {'created_at': 'Tue Feb 14 16:27:18 +0000 2012',\n",
       "  'text': 'eu vou morrer de calor'},\n",
       " {'created_at': 'Tue Feb 14 16:19:27 +0000 2012',\n",
       "  'text': 'ai meu deus que calor'},\n",
       " {'created_at': 'Mon Feb 13 15:48:22 +0000 2012',\n",
       "  'text': 'vendo as minhas fotos de quando eu era tri pequena'},\n",
       " {'created_at': 'Mon Feb 13 15:17:55 +0000 2012',\n",
       "  'text': 'aqui ta o maior tédio'},\n",
       " {'created_at': 'Mon Feb 13 15:06:28 +0000 2012',\n",
       "  'text': 'eu preciso falar com a minha  best'},\n",
       " {'created_at': 'Sun Feb 12 22:21:56 +0000 2012', 'text': 'oi'},\n",
       " {'created_at': 'Sun Feb 12 21:11:55 +0000 2012',\n",
       "  'text': 'antes eu era convencida,refletium pouco,agora sou perfeita!!!'},\n",
       " {'created_at': 'Fri Feb 28 11:09:17 +0000 2020',\n",
       "  'text': '@OfficialPCMR @NVIDIAGeForce #RTXON with @SamuGiampietri 😂'},\n",
       " {'created_at': 'Fri Feb 28 11:03:55 +0000 2020',\n",
       "  'text': \"RT @OfficialPCMR: It's here and it's BREATHTAKING! \\nWe have one, exclusive, @NVIDIAGeForce RTX 2080 Ti, CyberPunk 2077 Edition to give away…\"},\n",
       " {'created_at': 'Wed Jul 03 22:01:51 +0000 2019',\n",
       "  'text': '@chatmundo Are you still working?'},\n",
       " {'created_at': 'Mon May 06 22:00:28 +0000 2019',\n",
       "  'text': 'Ciao Twitter! #ilmioprimotweet'},\n",
       " {'created_at': 'Sun Aug 04 06:28:35 +0000 2013',\n",
       "  'text': 'Fifitbnnfkdlv\\nQqqqqqqqqqcdkbgjhjjjhhlhghNjk http://t.co/SUXATTMv9u'},\n",
       " {'created_at': 'Tue Aug 07 03:22:01 +0000 2012',\n",
       "  'text': 'thau boa noite pra voces pq eu vou durmi bjs'},\n",
       " {'created_at': 'Tue Aug 07 03:21:24 +0000 2012', 'text': 'que sono'},\n",
       " {'created_at': 'Tue Aug 07 01:19:29 +0000 2012', 'text': 'ai que tedio'},\n",
       " {'created_at': 'Tue Aug 07 01:05:17 +0000 2012',\n",
       "  'text': 'amor foi tao romantico'},\n",
       " {'created_at': 'Tue Aug 07 01:05:01 +0000 2012',\n",
       "  'text': 'hoje fui no mercado e ganhei um buque de flores de um menino eram rosas vermelhas e tinha um cartao escrito escolhi vermelho pq é a cor do'},\n",
       " {'created_at': 'Tue Aug 07 01:02:08 +0000 2012', 'text': 'boa noite'},\n",
       " {'created_at': 'Wed Jan 15 21:48:53 +0000 2020',\n",
       "  'text': 'la gioa di salvare una vita https://t.co/Hu4Ep3QpCK'},\n",
       " {'created_at': 'Wed Jan 15 21:38:58 +0000 2020',\n",
       "  'text': 'signorini stai creando il peggior gf della storia ...trash assurdo ..che tristezza  #GFVIP'},\n",
       " {'created_at': 'Sat Dec 13 15:04:34 +0000 2014', 'text': '@gbrlboschetti'},\n",
       " {'created_at': 'Tue Nov 18 09:15:03 +0000 2014',\n",
       "  'text': 'https://t.co/r1zXIssTdz'},\n",
       " {'created_at': 'Sat Nov 15 14:29:51 +0000 2014',\n",
       "  'text': 'http://t.co/i5oTpS5xuS'},\n",
       " {'created_at': 'Thu Jan 10 11:01:16 +0000 2013',\n",
       "  'text': '@PapaParole ma ti droghi???'},\n",
       " {'created_at': 'Thu Jan 10 10:59:22 +0000 2013',\n",
       "  'text': 'RT @PapaParole: “riempiti” di noi stessi non rimane spazio per Dio. E perciò nn c’è spazio per gli altri, i bambini, i poveri\\nhttp://t.c ...'}]"
      ]
     },
     "execution_count": 21,
     "metadata": {},
     "output_type": "execute_result"
    }
   ],
   "source": [
    "tweets = []\n",
    "for user in users:\n",
    "    screen_name = user.screen_name\n",
    "    tweets_timeline = api.GetUserTimeline(screen_name=screen_name)\n",
    "    for tweet in tweets_timeline:\n",
    "        line = {'created_at' : tweet.created_at, 'text' : tweet.text}\n",
    "        tweets.append(line)\n",
    "tweets"
   ]
  },
  {
   "cell_type": "markdown",
   "metadata": {},
   "source": [
    "# Save Tweets on a CSV file"
   ]
  },
  {
   "cell_type": "code",
   "execution_count": 22,
   "metadata": {},
   "outputs": [],
   "source": [
    "#pip install csv\n",
    "#pip3 install csv\n",
    "import csv\n",
    "\n",
    "# lista = [{'chiave1' : 'valore1', 'chiave2' : 'valore2'}, {'chiave1' : 'valore3', 'chiave2' : 'valore4'}, item3]\n",
    "\n",
    "# CSV\n",
    "# chiave1 chiave2 (intestazione)\n",
    "# valore1 valore2 \n",
    "# valore3 valore4\n",
    "\n",
    "nomi_colonne = tweets[0].keys()\n",
    "with open('tweets.csv', 'w') as output_file:\n",
    "    dict_writer = csv.DictWriter(output_file, nomi_colonne)\n",
    "    dict_writer.writeheader()\n",
    "    dict_writer.writerows(tweets)"
   ]
  },
  {
   "cell_type": "code",
   "execution_count": null,
   "metadata": {},
   "outputs": [],
   "source": []
  }
 ],
 "metadata": {
  "kernelspec": {
   "display_name": "Python 3",
   "language": "python",
   "name": "python3"
  },
  "language_info": {
   "codemirror_mode": {
    "name": "ipython",
    "version": 3
   },
   "file_extension": ".py",
   "mimetype": "text/x-python",
   "name": "python",
   "nbconvert_exporter": "python",
   "pygments_lexer": "ipython3",
   "version": "3.8.1"
  }
 },
 "nbformat": 4,
 "nbformat_minor": 4
}
