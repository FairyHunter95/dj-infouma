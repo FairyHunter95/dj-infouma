{
 "cells": [
  {
   "cell_type": "markdown",
   "metadata": {},
   "source": [
    "# Configure the API"
   ]
  },
  {
   "cell_type": "code",
   "execution_count": 6,
   "metadata": {},
   "outputs": [],
   "source": [
    "import twitter\n",
    "api = twitter.Api(consumer_key='CUxYiLHwvWQtohVpeWrPKXAa8',\n",
    "                  consumer_secret='H6XLYMduxYQ2OoUmO2WLKrZUsi9lYrKeuTJnPNzAqlzZBCMN84',\n",
    "                  access_token_key='108051742-AnoN2JrZbWxZN4WnNZ8QbGAD9D637hHIbb8aZ8kR',\n",
    "                  access_token_secret='qXs39fhCCF0VGXlZuBfN8zMe73cUAU0QBQKWOcdRB7AlS')"
   ]
  },
  {
   "cell_type": "markdown",
   "metadata": {},
   "source": [
    "# Case 1: I know the screen name"
   ]
  },
  {
   "cell_type": "code",
   "execution_count": 9,
   "metadata": {},
   "outputs": [],
   "source": [
    "screen_name = \"alod83\""
   ]
  },
  {
   "cell_type": "code",
   "execution_count": 20,
   "metadata": {},
   "outputs": [
    {
     "data": {
      "text/plain": [
       "[{'created_at': 'Mon Mar 09 21:32:37 +0000 2020',\n",
       "  'text': 'I just published How to extract data from a search engine through python and selenium https://t.co/OwH5d81Hf9'},\n",
       " {'created_at': 'Sat Feb 29 15:41:22 +0000 2020',\n",
       "  'text': 'I just published How to quickly build an ordered multi stacked bar in Google Spreadsheets https://t.co/FQkKlKSl6M'},\n",
       " {'created_at': 'Fri Feb 28 11:25:37 +0000 2020',\n",
       "  'text': 'The death of Semantic Web? Or new challenges? https://t.co/8mxtfQa1t2'},\n",
       " {'created_at': 'Thu Feb 27 14:30:33 +0000 2020',\n",
       "  'text': 'How to design a data journalism story\\nhttps://t.co/rOtGJDqKpH'},\n",
       " {'created_at': 'Wed Apr 26 17:55:01 +0000 2017',\n",
       "  'text': 'Open Refine: https://t.co/GnQMsMFzb2 tramite @YouTube'},\n",
       " {'created_at': 'Wed Mar 15 16:05:09 +0000 2017',\n",
       "  'text': 'Phpmyadmin: https://t.co/LaR4ZPi76V tramite @YouTube'},\n",
       " {'created_at': 'Mon Mar 13 10:13:49 +0000 2017',\n",
       "  'text': 'WeME: https://t.co/JXdfP27ZxK tramite @YouTube'},\n",
       " {'created_at': 'Thu Feb 23 11:19:45 +0000 2017',\n",
       "  'text': 'GoogleRefine How to link dataset to external sources: https://t.co/RH1lhN51Sx tramite @YouTube'},\n",
       " {'created_at': 'Thu Feb 16 22:16:34 +0000 2017',\n",
       "  'text': 'Pubby: https://t.co/1yOKkVssyq tramite @YouTube'},\n",
       " {'created_at': 'Thu Feb 16 21:49:49 +0000 2017',\n",
       "  'text': 'GraphDB: https://t.co/Nqs4Zr4Wg4 tramite @YouTube'},\n",
       " {'created_at': 'Wed Feb 15 22:14:52 +0000 2017',\n",
       "  'text': 'How to build a RDF dataset in Protégé: https://t.co/1ARMTYYEzy tramite @YouTube'},\n",
       " {'created_at': 'Mon Nov 28 21:23:40 +0000 2016',\n",
       "  'text': \"L'uomo che dribblava i treni: recensione https://t.co/KdswRaRsJc via @NewsLpl\"},\n",
       " {'created_at': 'Sat Aug 20 21:39:50 +0000 2016',\n",
       "  'text': 'Il Dio sconosciuto: una recensione del nuovo libro di Rocco Quaglia https://t.co/VpMm4tFRdd via @NewsLpl'},\n",
       " {'created_at': 'Tue Jun 28 09:57:08 +0000 2016',\n",
       "  'text': 'https://t.co/dkYoN2RRLs'},\n",
       " {'created_at': 'Mon May 30 19:06:10 +0000 2016',\n",
       "  'text': 'RT @Pontifex_it: Siamo custodi, non padroni di questa terra, e ciascuno ha una personale responsabilità nel custodire il creato, prezioso d…'},\n",
       " {'created_at': 'Mon May 30 19:05:48 +0000 2016',\n",
       "  'text': 'Ci sarà mai un Windows Surface Phone? https://t.co/d6SaUadWEe'},\n",
       " {'created_at': 'Thu May 12 10:19:46 +0000 2016',\n",
       "  'text': 'iPhone 7: ecco gli ultimi rumors dalla rete https://t.co/ws4sjNafda'},\n",
       " {'created_at': 'Tue Oct 21 14:22:08 +0000 2014',\n",
       "  'text': '#iswc2014 demo 106: Tourpedia!!!'},\n",
       " {'created_at': 'Thu May 29 08:56:48 +0000 2014',\n",
       "  'text': 'RT @pdepoet: #LREC2014 tweet your opinion on session using hash+session-id for lrec mood map: http://t.co/zioISP0CH4'},\n",
       " {'created_at': 'Wed May 28 10:20:58 +0000 2014',\n",
       "  'text': 'RT @Tzawa: Please tweet with hash tag #LREC2014 !'}]"
      ]
     },
     "execution_count": 20,
     "metadata": {},
     "output_type": "execute_result"
    }
   ],
   "source": [
    "tweets_timeline = api.GetUserTimeline(screen_name=screen_name)\n",
    "tweets = []\n",
    "for tweet in tweets_timeline:\n",
    "    line = {'created_at' : tweet.created_at, 'text' : tweet.text}\n",
    "    tweets.append(line)\n",
    "tweets"
   ]
  },
  {
   "cell_type": "markdown",
   "metadata": {},
   "source": [
    "# Case 2:  I don't know the screen name"
   ]
  },
  {
   "cell_type": "code",
   "execution_count": 13,
   "metadata": {},
   "outputs": [],
   "source": [
    "name = \"Angelica Lo Duca\"\n",
    "users = api.GetUsersSearch(term=name)"
   ]
  },
  {
   "cell_type": "code",
   "execution_count": 21,
   "metadata": {},
   "outputs": [
    {
     "data": {
      "text/plain": [
       "[{'created_at': 'Mon Mar 09 21:32:37 +0000 2020',\n",
       "  'text': 'I just published How to extract data from a search engine through python and selenium https://t.co/OwH5d81Hf9'},\n",
       " {'created_at': 'Sat Feb 29 15:41:22 +0000 2020',\n",
       "  'text': 'I just published How to quickly build an ordered multi stacked bar in Google Spreadsheets https://t.co/FQkKlKSl6M'},\n",
       " {'created_at': 'Fri Feb 28 11:25:37 +0000 2020',\n",
       "  'text': 'The death of Semantic Web? Or new challenges? https://t.co/8mxtfQa1t2'},\n",
       " {'created_at': 'Thu Feb 27 14:30:33 +0000 2020',\n",
       "  'text': 'How to design a data journalism story\\nhttps://t.co/rOtGJDqKpH'},\n",
       " {'created_at': 'Wed Apr 26 17:55:01 +0000 2017',\n",
       "  'text': 'Open Refine: https://t.co/GnQMsMFzb2 tramite @YouTube'},\n",
       " {'created_at': 'Wed Mar 15 16:05:09 +0000 2017',\n",
       "  'text': 'Phpmyadmin: https://t.co/LaR4ZPi76V tramite @YouTube'},\n",
       " {'created_at': 'Mon Mar 13 10:13:49 +0000 2017',\n",
       "  'text': 'WeME: https://t.co/JXdfP27ZxK tramite @YouTube'},\n",
       " {'created_at': 'Thu Feb 23 11:19:45 +0000 2017',\n",
       "  'text': 'GoogleRefine How to link dataset to external sources: https://t.co/RH1lhN51Sx tramite @YouTube'},\n",
       " {'created_at': 'Thu Feb 16 22:16:34 +0000 2017',\n",
       "  'text': 'Pubby: https://t.co/1yOKkVssyq tramite @YouTube'},\n",
       " {'created_at': 'Thu Feb 16 21:49:49 +0000 2017',\n",
       "  'text': 'GraphDB: https://t.co/Nqs4Zr4Wg4 tramite @YouTube'},\n",
       " {'created_at': 'Wed Feb 15 22:14:52 +0000 2017',\n",
       "  'text': 'How to build a RDF dataset in Protégé: https://t.co/1ARMTYYEzy tramite @YouTube'},\n",
       " {'created_at': 'Mon Nov 28 21:23:40 +0000 2016',\n",
       "  'text': \"L'uomo che dribblava i treni: recensione https://t.co/KdswRaRsJc via @NewsLpl\"},\n",
       " {'created_at': 'Sat Aug 20 21:39:50 +0000 2016',\n",
       "  'text': 'Il Dio sconosciuto: una recensione del nuovo libro di Rocco Quaglia https://t.co/VpMm4tFRdd via @NewsLpl'},\n",
       " {'created_at': 'Tue Jun 28 09:57:08 +0000 2016',\n",
       "  'text': 'https://t.co/dkYoN2RRLs'},\n",
       " {'created_at': 'Mon May 30 19:06:10 +0000 2016',\n",
       "  'text': 'RT @Pontifex_it: Siamo custodi, non padroni di questa terra, e ciascuno ha una personale responsabilità nel custodire il creato, prezioso d…'},\n",
       " {'created_at': 'Mon May 30 19:05:48 +0000 2016',\n",
       "  'text': 'Ci sarà mai un Windows Surface Phone? https://t.co/d6SaUadWEe'},\n",
       " {'created_at': 'Thu May 12 10:19:46 +0000 2016',\n",
       "  'text': 'iPhone 7: ecco gli ultimi rumors dalla rete https://t.co/ws4sjNafda'},\n",
       " {'created_at': 'Tue Oct 21 14:22:08 +0000 2014',\n",
       "  'text': '#iswc2014 demo 106: Tourpedia!!!'},\n",
       " {'created_at': 'Thu May 29 08:56:48 +0000 2014',\n",
       "  'text': 'RT @pdepoet: #LREC2014 tweet your opinion on session using hash+session-id for lrec mood map: http://t.co/zioISP0CH4'},\n",
       " {'created_at': 'Wed May 28 10:20:58 +0000 2014',\n",
       "  'text': 'RT @Tzawa: Please tweet with hash tag #LREC2014 !'}]"
      ]
     },
     "execution_count": 21,
     "metadata": {},
     "output_type": "execute_result"
    }
   ],
   "source": [
    "for user in users:\n",
    "    screen_name = user.screen_name\n",
    "    tweets = api.GetUserTimeline(screen_name=screen_name)\n",
    "    tweets_timeline = api.GetUserTimeline(screen_name=screen_name)\n",
    "    tweets = []\n",
    "    for tweet in tweets_timeline:\n",
    "        line = {'created_at' : tweet.created_at, 'text' : tweet.text}\n",
    "        tweets.append(line)\n",
    "tweets"
   ]
  },
  {
   "cell_type": "markdown",
   "metadata": {},
   "source": [
    "# Save Tweets on a CSV file"
   ]
  },
  {
   "cell_type": "code",
   "execution_count": 23,
   "metadata": {},
   "outputs": [],
   "source": [
    "import csv\n",
    "\n",
    "keys = tweets[0].keys()\n",
    "with open('tweets.csv', 'w') as output_file:\n",
    "    dict_writer = csv.DictWriter(output_file, keys)\n",
    "    dict_writer.writeheader()\n",
    "    dict_writer.writerows(tweets)"
   ]
  }
 ],
 "metadata": {
  "kernelspec": {
   "display_name": "Python 3",
   "language": "python",
   "name": "python3"
  },
  "language_info": {
   "codemirror_mode": {
    "name": "ipython",
    "version": 3
   },
   "file_extension": ".py",
   "mimetype": "text/x-python",
   "name": "python",
   "nbconvert_exporter": "python",
   "pygments_lexer": "ipython3",
   "version": "3.8.1"
  }
 },
 "nbformat": 4,
 "nbformat_minor": 4
}
