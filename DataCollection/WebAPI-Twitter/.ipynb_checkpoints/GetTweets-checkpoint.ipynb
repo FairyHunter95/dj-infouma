{
 "cells": [
  {
   "cell_type": "code",
   "execution_count": 3,
   "metadata": {},
   "outputs": [],
   "source": [
    "import twitter"
   ]
  },
  {
   "cell_type": "code",
   "execution_count": 6,
   "metadata": {},
   "outputs": [],
   "source": [
    "api = twitter.Api(consumer_key='CUxYiLHwvWQtohVpeWrPKXAa8',\n",
    "                  consumer_secret='H6XLYMduxYQ2OoUmO2WLKrZUsi9lYrKeuTJnPNzAqlzZBCMN84',\n",
    "                  access_token_key='108051742-AnoN2JrZbWxZN4WnNZ8QbGAD9D637hHIbb8aZ8kR',\n",
    "                  access_token_secret='qXs39fhCCF0VGXlZuBfN8zMe73cUAU0QBQKWOcdRB7AlS')"
   ]
  },
  {
   "cell_type": "markdown",
   "metadata": {},
   "source": [
    "# Case 1 : I know the screen name"
   ]
  },
  {
   "cell_type": "code",
   "execution_count": 9,
   "metadata": {},
   "outputs": [],
   "source": [
    "name = \"alod83\""
   ]
  },
  {
   "cell_type": "code",
   "execution_count": 11,
   "metadata": {},
   "outputs": [
    {
     "name": "stdout",
     "output_type": "stream",
     "text": [
      "I just published How to extract data from a search engine through python and selenium https://t.co/OwH5d81Hf9\n",
      "I just published How to quickly build an ordered multi stacked bar in Google Spreadsheets https://t.co/FQkKlKSl6M\n",
      "The death of Semantic Web? Or new challenges? https://t.co/8mxtfQa1t2\n",
      "How to design a data journalism story\n",
      "https://t.co/rOtGJDqKpH\n",
      "Open Refine: https://t.co/GnQMsMFzb2 tramite @YouTube\n",
      "Phpmyadmin: https://t.co/LaR4ZPi76V tramite @YouTube\n",
      "WeME: https://t.co/JXdfP27ZxK tramite @YouTube\n",
      "GoogleRefine How to link dataset to external sources: https://t.co/RH1lhN51Sx tramite @YouTube\n",
      "Pubby: https://t.co/1yOKkVssyq tramite @YouTube\n",
      "GraphDB: https://t.co/Nqs4Zr4Wg4 tramite @YouTube\n",
      "How to build a RDF dataset in Protégé: https://t.co/1ARMTYYEzy tramite @YouTube\n",
      "L'uomo che dribblava i treni: recensione https://t.co/KdswRaRsJc via @NewsLpl\n",
      "Il Dio sconosciuto: una recensione del nuovo libro di Rocco Quaglia https://t.co/VpMm4tFRdd via @NewsLpl\n",
      "https://t.co/dkYoN2RRLs\n",
      "RT @Pontifex_it: Siamo custodi, non padroni di questa terra, e ciascuno ha una personale responsabilità nel custodire il creato, prezioso d…\n",
      "Ci sarà mai un Windows Surface Phone? https://t.co/d6SaUadWEe\n",
      "iPhone 7: ecco gli ultimi rumors dalla rete https://t.co/ws4sjNafda\n",
      "#iswc2014 demo 106: Tourpedia!!!\n",
      "RT @pdepoet: #LREC2014 tweet your opinion on session using hash+session-id for lrec mood map: http://t.co/zioISP0CH4\n",
      "RT @Tzawa: Please tweet with hash tag #LREC2014 !\n"
     ]
    }
   ],
   "source": [
    "tweets = api.GetUserTimeline(screen_name=name)\n",
    "for tweet in tweets:\n",
    "    print(tweet.text)"
   ]
  },
  {
   "cell_type": "markdown",
   "metadata": {},
   "source": [
    "# "
   ]
  }
 ],
 "metadata": {
  "kernelspec": {
   "display_name": "Python 3",
   "language": "python",
   "name": "python3"
  },
  "language_info": {
   "codemirror_mode": {
    "name": "ipython",
    "version": 3
   },
   "file_extension": ".py",
   "mimetype": "text/x-python",
   "name": "python",
   "nbconvert_exporter": "python",
   "pygments_lexer": "ipython3",
   "version": "3.8.1"
  }
 },
 "nbformat": 4,
 "nbformat_minor": 4
}
