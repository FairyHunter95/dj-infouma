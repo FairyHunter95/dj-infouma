{
 "cells": [
  {
   "cell_type": "markdown",
   "metadata": {},
   "source": [
    "# Domanda 1\n",
    "Recuperare la lista dei followers dell'account alod83 e stamparla a video."
   ]
  },
  {
   "cell_type": "code",
   "execution_count": 2,
   "metadata": {},
   "outputs": [],
   "source": [
    "import twitter\n",
    "api = twitter.Api(consumer_key='INSERIRE',\n",
    "                  consumer_secret='INSERIRE',\n",
    "                  access_token_key='INSERIRE',\n",
    "                  access_token_secret='INSERIRE')"
   ]
  },
  {
   "cell_type": "code",
   "execution_count": null,
   "metadata": {},
   "outputs": [],
   "source": [
    "user = \"alod83\"\n",
    "followers = # completare\n",
    "\n",
    "# completare"
   ]
  },
  {
   "cell_type": "markdown",
   "metadata": {},
   "source": [
    "# Domanda 2\n",
    "Per ogni follower salvare l'elenco dei tweets nella lista tweets. Per ogni tweet salvare l'autore, il testo e la data di creazione. Gestire le eccezioni utilizzando il blocco try - except."
   ]
  },
  {
   "cell_type": "code",
   "execution_count": null,
   "metadata": {},
   "outputs": [],
   "source": [
    "from twitter import TwitterError\n",
    "tweets = []\n",
    "for follower in followers:\n",
    "    try:\n",
    "        # inserire codice\n",
    "    except TwitterError:\n",
    "        continue"
   ]
  },
  {
   "cell_type": "markdown",
   "metadata": {},
   "source": [
    "# Domanda 3\n",
    "Salvare il contenuto della lista tweets su un CSV. Verificare la correttezza del file salvato. (Si trova nella cartella in cui è aperto il notebook)."
   ]
  },
  {
   "cell_type": "code",
   "execution_count": null,
   "metadata": {},
   "outputs": [],
   "source": []
  }
 ],
 "metadata": {
  "kernelspec": {
   "display_name": "Python 3",
   "language": "python",
   "name": "python3"
  },
  "language_info": {
   "codemirror_mode": {
    "name": "ipython",
    "version": 3
   },
   "file_extension": ".py",
   "mimetype": "text/x-python",
   "name": "python",
   "nbconvert_exporter": "python",
   "pygments_lexer": "ipython3",
   "version": "3.8.1"
  }
 },
 "nbformat": 4,
 "nbformat_minor": 4
}
