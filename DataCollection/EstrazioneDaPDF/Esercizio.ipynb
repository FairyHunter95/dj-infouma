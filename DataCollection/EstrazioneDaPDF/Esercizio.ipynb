{
 "cells": [
  {
   "cell_type": "markdown",
   "metadata": {},
   "source": [
    "# Domanda 1\n",
    "Dato il documento PDF coronavirusTurismo.pdf (posizionato nella cartella dati), estrarre da pag. 3 la tabella contenente la stima della contrazione dell'incoming turistico italiano per il 2020 per paese con casi di virus corona.\n",
    "\n",
    "Gestire le eccezioni della Cina e della Germania.\n"
   ]
  },
  {
   "cell_type": "code",
   "execution_count": null,
   "metadata": {},
   "outputs": [],
   "source": [
    "from tabula import read_pdf\n",
    "\n",
    "# [top,left,bottom,width] (dati espressi in cm)\n",
    "box = []\n",
    "# fattore di conversione (read_pdf vuole i dati\n",
    "# in punti PDF mentre noi li abbiamo in cm)\n",
    "fc = 28.28\n",
    "         \n",
    "for i in range(0, len(box)):\n",
    "    box[i] *= fc\n",
    "    \n",
    "df = read_pdf(\"dati/coronavirusTurismo.pdf\", pages='INSERIRE',area=[box],output_format=\"json\")\n",
    "\n",
    "dati = []\n",
    "for i in range(0,len(df)):\n",
    "    \n",
    "    \n",
    "dati"
   ]
  },
  {
   "cell_type": "markdown",
   "metadata": {},
   "source": [
    "# Domanda 2\n",
    "Salvare i dati estratti in un file csv."
   ]
  },
  {
   "cell_type": "code",
   "execution_count": null,
   "metadata": {},
   "outputs": [],
   "source": [
    "import csv\n",
    "nomi_colonne = dati[0].keys()\n",
    "with open('dati-turismo.csv', 'w') as output_file:\n",
    "    dict_writer = csv.DictWriter(output_file, nomi_colonne)\n",
    "    dict_writer.writeheader()\n",
    "    dict_writer.writerows(dati)"
   ]
  },
  {
   "cell_type": "markdown",
   "metadata": {},
   "source": [
    "# Domanda 3\n",
    "\n",
    "Sempre dallo stesso documento PDF estrarre le tabelle da pagina 5 a pag 17"
   ]
  },
  {
   "cell_type": "code",
   "execution_count": null,
   "metadata": {},
   "outputs": [],
   "source": [
    "# [top,left,bottom,width] (dati espressi in cm)\n",
    "box = [8.5, 0,21,19]\n",
    "# fattore di conversione (read_pdf vuole i dati\n",
    "# in punti PDF mentre noi li abbiamo in cm)\n",
    "fc = 28.28\n",
    "         \n",
    "for i in range(0, len(box)):\n",
    "    box[i] *= fc\n",
    "    \n",
    "df = read_pdf(\"dati/coronavirusTurismo.pdf\", pages='5-17',area=[box],output_format=\"json\")\n",
    "\n",
    "# salvo l'elenco dei paesi in una variabile (non salvo l'ultimo - Italia)\n",
    "paesi = []\n",
    "for i in range(0, len(dati)-1):\n",
    "    paesi.append(dati[i]['paese'])\n",
    "\n",
    "tabella = []\n",
    "for i in range(0,len(df)):\n",
    "    if df[i]['data']:\n",
    "        paese = []\n",
    "        for j in range(0, len(df[i]['data'])):\n",
    "            if df[i]['data'][j][0]['text'] == 'REGIONEARRIVIPRESENZESPESA TURISTICA':\n",
    "                j = j + 1\n",
    "            linea = {}\n",
    "            linea['regioni'] = df[i]['data'][j][0]['text']\n",
    "            linea['arrivi'] = df[i]['data'][j][1]['text']\n",
    "            linea['presenza'] = df[i]['data'][j][2]['text']\n",
    "            linea['spesaTuristica'] = df[i]['data'][j][3]['text']\n",
    "            paese.append(linea)\n",
    "        tabella.append({paesi[i] : paese})\n",
    "tabella"
   ]
  },
  {
   "cell_type": "markdown",
   "metadata": {},
   "source": [
    "# Domanda 4\n",
    "Salvare i dati estratti di ogni Paese (Australia, Canada ecc) su un csv separato."
   ]
  },
  {
   "cell_type": "code",
   "execution_count": null,
   "metadata": {},
   "outputs": [],
   "source": [
    "nomi_colonne = tabella[0]['Australia'][0].keys()\n",
    "\n",
    "for paese in tabella:\n",
    "    for k,v in paese.items():\n",
    "        with open(k + '.csv', 'w') as output_file:\n",
    "            dict_writer = csv.DictWriter(output_file, nomi_colonne)\n",
    "            dict_writer.writeheader()\n",
    "            dict_writer.writerows(v)"
   ]
  },
  {
   "cell_type": "code",
   "execution_count": null,
   "metadata": {},
   "outputs": [],
   "source": []
  }
 ],
 "metadata": {
  "kernelspec": {
   "display_name": "Python 3",
   "language": "python",
   "name": "python3"
  },
  "language_info": {
   "codemirror_mode": {
    "name": "ipython",
    "version": 3
   },
   "file_extension": ".py",
   "mimetype": "text/x-python",
   "name": "python",
   "nbconvert_exporter": "python",
   "pygments_lexer": "ipython3",
   "version": "3.8.1"
  }
 },
 "nbformat": 4,
 "nbformat_minor": 4
}
