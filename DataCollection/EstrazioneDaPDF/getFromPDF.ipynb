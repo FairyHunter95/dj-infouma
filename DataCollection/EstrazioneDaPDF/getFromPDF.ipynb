{
 "cells": [
  {
   "cell_type": "code",
   "execution_count": null,
   "metadata": {},
   "outputs": [],
   "source": [
    "from tabula import read_pdf\n",
    "\n",
    "# [top,left,bottom,width] (dati espressi in cm)\n",
    "box = [1.5, 22,3.8,26.741]\n",
    "# fattore di conversione (read_pdf vuole i dati\n",
    "# in punti PDF mentre noi li abbiamo in cm)\n",
    "fc = 28.28\n",
    "         \n",
    "for i in range(0, len(box)):\n",
    "    box[i] *= fc\n",
    "    \n",
    "df = read_pdf(\"dati/Bolletino-sorveglianza-integrata-COVID-19_17-marzo-2020_appendix.pdf\", pages='3,5,6,8,9,10,12,14,16,18,22,24,26,28,30,32,34,36,38,40',area=[box],output_format=\"json\")\n",
    "\n",
    "regioni = []\n",
    "for i in range(0,len(df)):\n",
    "    regioni.append(df[i]['data'][0][0]['text'])\n",
    "\n",
    "regioni\n"
   ]
  },
  {
   "cell_type": "code",
   "execution_count": null,
   "metadata": {},
   "outputs": [],
   "source": [
    "# [top,left,bottom,width]\n",
    "box = [8,10,25,26]\n",
    "\n",
    "fc = 28.28\n",
    "         \n",
    "for i in range(0, len(box)):\n",
    "    box[i] *= fc\n",
    "    \n",
    "df = read_pdf(\"dati/Bolletino-sorveglianza-integrata-COVID-19_17-marzo-2020_appendix.pdf\", pages='3,5,6,8,9,10,12,14,16,18,22,24,26,28,30,32,34,36,38,40',area=[box],output_format=\"json\", stream=True)\n",
    "\n",
    " \n",
    "df"
   ]
  },
  {
   "cell_type": "code",
   "execution_count": null,
   "metadata": {},
   "outputs": [],
   "source": [
    "# prima colonna\n",
    "df[1]['data'][0][0]['text'] "
   ]
  },
  {
   "cell_type": "code",
   "execution_count": null,
   "metadata": {},
   "outputs": [],
   "source": [
    "# seconda colonna\n",
    "df[1]['data'][0][1]['text'] "
   ]
  },
  {
   "cell_type": "code",
   "execution_count": null,
   "metadata": {},
   "outputs": [],
   "source": [
    "table = []\n",
    "for i in range(0,len(df)):\n",
    "    riga = {}\n",
    "    riga['regione'] = regioni[i]\n",
    "    if df[i]['data']:\n",
    "        for j in range(0,len(df[i]['data'])):\n",
    "            primaColonna = df[i]['data'][j][0]['text']\n",
    "            secondaColonna = df[i]['data'][j][1]['text']\n",
    "            riga[primaColonna] = secondaColonna\n",
    "    table.append(riga)\n",
    "table "
   ]
  },
  {
   "cell_type": "code",
   "execution_count": null,
   "metadata": {},
   "outputs": [],
   "source": [
    "# elimino le colonne vuote\n",
    "table = []\n",
    "for i in range(0,len(df)):\n",
    "    riga = {}\n",
    "    riga['regione'] = regioni[i]\n",
    "    if df[i]['data']:\n",
    "        for j in range(0,len(df[i]['data'])):\n",
    "            primaColonna = df[i]['data'][j][0]['text']\n",
    "            if primaColonna != '' and primaColonna != '17 operatori sanitari' and primaColonna != \"Fascia d'età\":\n",
    "                if primaColonna == '&gt;90':\n",
    "                    primaColonna = '> 90'\n",
    "                secondaColonna = df[i]['data'][j][1]['text']\n",
    "                riga[primaColonna] = secondaColonna\n",
    "    table.append(riga)\n",
    "table "
   ]
  },
  {
   "cell_type": "code",
   "execution_count": null,
   "metadata": {},
   "outputs": [],
   "source": [
    "# salvo i risultati su file \n",
    "import csv\n",
    "nomi_colonne = table[0].keys()\n",
    "with open('dati-regioni-covid.csv', 'w') as output_file:\n",
    "    dict_writer = csv.DictWriter(output_file, nomi_colonne)\n",
    "    dict_writer.writeheader()\n",
    "    dict_writer.writerows(table)"
   ]
  },
  {
   "cell_type": "code",
   "execution_count": null,
   "metadata": {},
   "outputs": [],
   "source": []
  }
 ],
 "metadata": {
  "kernelspec": {
   "display_name": "Python 3",
   "language": "python",
   "name": "python3"
  },
  "language_info": {
   "codemirror_mode": {
    "name": "ipython",
    "version": 3
   },
   "file_extension": ".py",
   "mimetype": "text/x-python",
   "name": "python",
   "nbconvert_exporter": "python",
   "pygments_lexer": "ipython3",
   "version": "3.8.1"
  }
 },
 "nbformat": 4,
 "nbformat_minor": 4
}
